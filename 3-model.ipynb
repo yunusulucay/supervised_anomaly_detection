{
 "cells": [
  {
   "cell_type": "markdown",
   "metadata": {},
   "source": [
    "Imbalanced classification.\n",
    "\n",
    "PyOD XGBOD\n",
    "\n",
    "Binary Classification Models"
   ]
  },
  {
   "cell_type": "markdown",
   "metadata": {},
   "source": [
    "- https://towardsdatascience.com/supervised-machine-learning-technique-for-anomaly-detection-logistic-regression-97fc7a9cacd4\n",
    "\n",
    "- https://stats.stackexchange.com/questions/474640/is-anomaly-detection-supervised-or-un-supervised\n",
    "\n",
    "- https://github.com/yzhao062/pyod\n",
    "\n",
    "- https://www.analyticsvidhya.com/blog/2021/06/univariate-anomaly-detection-a-walkthrough-in-python/\n",
    "\n",
    "- https://www.projectpro.io/article/anomaly-detection-using-machine-learning-in-python-with-example/555\n",
    "\n",
    "- https://medium.com/learningdatascience/anomaly-detection-techniques-in-python-50f650c75aaf"
   ]
  },
  {
   "cell_type": "markdown",
   "metadata": {},
   "source": [
    "___"
   ]
  },
  {
   "cell_type": "code",
   "execution_count": 1,
   "metadata": {},
   "outputs": [],
   "source": [
    "import pandas as pd"
   ]
  },
  {
   "cell_type": "code",
   "execution_count": 2,
   "metadata": {},
   "outputs": [],
   "source": [
    "df_train = pd.read_csv(\"feature_engineering_tools/df_train_model.csv\")"
   ]
  },
  {
   "cell_type": "code",
   "execution_count": 3,
   "metadata": {},
   "outputs": [
    {
     "data": {
      "text/html": [
       "<div>\n",
       "<style scoped>\n",
       "    .dataframe tbody tr th:only-of-type {\n",
       "        vertical-align: middle;\n",
       "    }\n",
       "\n",
       "    .dataframe tbody tr th {\n",
       "        vertical-align: top;\n",
       "    }\n",
       "\n",
       "    .dataframe thead th {\n",
       "        text-align: right;\n",
       "    }\n",
       "</style>\n",
       "<table border=\"1\" class=\"dataframe\">\n",
       "  <thead>\n",
       "    <tr style=\"text-align: right;\">\n",
       "      <th></th>\n",
       "      <th>duration</th>\n",
       "      <th>protocol_type</th>\n",
       "      <th>service</th>\n",
       "      <th>flag</th>\n",
       "      <th>src_bytes</th>\n",
       "      <th>dst_bytes</th>\n",
       "      <th>wrong_fragment</th>\n",
       "      <th>urgent</th>\n",
       "      <th>hot</th>\n",
       "      <th>num_failed_logins</th>\n",
       "      <th>...</th>\n",
       "      <th>dst_host_srv_count</th>\n",
       "      <th>dst_host_same_srv_rate</th>\n",
       "      <th>dst_host_diff_srv_rate</th>\n",
       "      <th>dst_host_same_src_port_rate</th>\n",
       "      <th>dst_host_srv_diff_host_rate</th>\n",
       "      <th>dst_host_serror_rate</th>\n",
       "      <th>dst_host_srv_serror_rate</th>\n",
       "      <th>dst_host_rerror_rate</th>\n",
       "      <th>dst_host_srv_rerror_rate</th>\n",
       "      <th>class</th>\n",
       "    </tr>\n",
       "  </thead>\n",
       "  <tbody>\n",
       "    <tr>\n",
       "      <th>0</th>\n",
       "      <td>-0.113551</td>\n",
       "      <td>2</td>\n",
       "      <td>51</td>\n",
       "      <td>7</td>\n",
       "      <td>-0.009889</td>\n",
       "      <td>-0.039310</td>\n",
       "      <td>-0.091223</td>\n",
       "      <td>-0.006301</td>\n",
       "      <td>-0.091933</td>\n",
       "      <td>-0.02622</td>\n",
       "      <td>...</td>\n",
       "      <td>-0.813985</td>\n",
       "      <td>-0.779157</td>\n",
       "      <td>-0.280673</td>\n",
       "      <td>0.073120</td>\n",
       "      <td>-0.287993</td>\n",
       "      <td>-0.641804</td>\n",
       "      <td>-0.627365</td>\n",
       "      <td>-0.221668</td>\n",
       "      <td>-0.374281</td>\n",
       "      <td>normal</td>\n",
       "    </tr>\n",
       "    <tr>\n",
       "      <th>1</th>\n",
       "      <td>-0.113551</td>\n",
       "      <td>3</td>\n",
       "      <td>33</td>\n",
       "      <td>7</td>\n",
       "      <td>-0.010032</td>\n",
       "      <td>-0.039310</td>\n",
       "      <td>-0.091223</td>\n",
       "      <td>-0.006301</td>\n",
       "      <td>-0.091933</td>\n",
       "      <td>-0.02622</td>\n",
       "      <td>...</td>\n",
       "      <td>-1.030895</td>\n",
       "      <td>-1.157831</td>\n",
       "      <td>2.764403</td>\n",
       "      <td>2.375620</td>\n",
       "      <td>-0.287993</td>\n",
       "      <td>-0.641804</td>\n",
       "      <td>-0.627365</td>\n",
       "      <td>-0.385140</td>\n",
       "      <td>-0.374281</td>\n",
       "      <td>normal</td>\n",
       "    </tr>\n",
       "    <tr>\n",
       "      <th>2</th>\n",
       "      <td>-0.113551</td>\n",
       "      <td>2</td>\n",
       "      <td>8</td>\n",
       "      <td>2</td>\n",
       "      <td>-0.010093</td>\n",
       "      <td>-0.039310</td>\n",
       "      <td>-0.091223</td>\n",
       "      <td>-0.006301</td>\n",
       "      <td>-0.091933</td>\n",
       "      <td>-0.02622</td>\n",
       "      <td>...</td>\n",
       "      <td>-0.804947</td>\n",
       "      <td>-0.935081</td>\n",
       "      <td>-0.173828</td>\n",
       "      <td>-0.478183</td>\n",
       "      <td>-0.287993</td>\n",
       "      <td>1.603834</td>\n",
       "      <td>1.614454</td>\n",
       "      <td>-0.385140</td>\n",
       "      <td>-0.374281</td>\n",
       "      <td>anomaly</td>\n",
       "    </tr>\n",
       "    <tr>\n",
       "      <th>3</th>\n",
       "      <td>-0.113551</td>\n",
       "      <td>2</td>\n",
       "      <td>61</td>\n",
       "      <td>7</td>\n",
       "      <td>-0.009996</td>\n",
       "      <td>0.052473</td>\n",
       "      <td>-0.091223</td>\n",
       "      <td>-0.006301</td>\n",
       "      <td>-0.091933</td>\n",
       "      <td>-0.02622</td>\n",
       "      <td>...</td>\n",
       "      <td>1.264742</td>\n",
       "      <td>1.069663</td>\n",
       "      <td>-0.440940</td>\n",
       "      <td>-0.380894</td>\n",
       "      <td>0.073759</td>\n",
       "      <td>-0.574435</td>\n",
       "      <td>-0.604947</td>\n",
       "      <td>-0.385140</td>\n",
       "      <td>-0.342768</td>\n",
       "      <td>normal</td>\n",
       "    </tr>\n",
       "    <tr>\n",
       "      <th>4</th>\n",
       "      <td>-0.113551</td>\n",
       "      <td>2</td>\n",
       "      <td>61</td>\n",
       "      <td>7</td>\n",
       "      <td>-0.010010</td>\n",
       "      <td>-0.034582</td>\n",
       "      <td>-0.091223</td>\n",
       "      <td>-0.006301</td>\n",
       "      <td>-0.091933</td>\n",
       "      <td>-0.02622</td>\n",
       "      <td>...</td>\n",
       "      <td>1.264742</td>\n",
       "      <td>1.069663</td>\n",
       "      <td>-0.440940</td>\n",
       "      <td>-0.478183</td>\n",
       "      <td>-0.287993</td>\n",
       "      <td>-0.641804</td>\n",
       "      <td>-0.627365</td>\n",
       "      <td>-0.385140</td>\n",
       "      <td>-0.374281</td>\n",
       "      <td>normal</td>\n",
       "    </tr>\n",
       "  </tbody>\n",
       "</table>\n",
       "<p>5 rows × 39 columns</p>\n",
       "</div>"
      ],
      "text/plain": [
       "   duration  protocol_type  service  flag  src_bytes  dst_bytes  \\\n",
       "0 -0.113551              2       51     7  -0.009889  -0.039310   \n",
       "1 -0.113551              3       33     7  -0.010032  -0.039310   \n",
       "2 -0.113551              2        8     2  -0.010093  -0.039310   \n",
       "3 -0.113551              2       61     7  -0.009996   0.052473   \n",
       "4 -0.113551              2       61     7  -0.010010  -0.034582   \n",
       "\n",
       "   wrong_fragment    urgent       hot  num_failed_logins  ...  \\\n",
       "0       -0.091223 -0.006301 -0.091933           -0.02622  ...   \n",
       "1       -0.091223 -0.006301 -0.091933           -0.02622  ...   \n",
       "2       -0.091223 -0.006301 -0.091933           -0.02622  ...   \n",
       "3       -0.091223 -0.006301 -0.091933           -0.02622  ...   \n",
       "4       -0.091223 -0.006301 -0.091933           -0.02622  ...   \n",
       "\n",
       "   dst_host_srv_count  dst_host_same_srv_rate  dst_host_diff_srv_rate  \\\n",
       "0           -0.813985               -0.779157               -0.280673   \n",
       "1           -1.030895               -1.157831                2.764403   \n",
       "2           -0.804947               -0.935081               -0.173828   \n",
       "3            1.264742                1.069663               -0.440940   \n",
       "4            1.264742                1.069663               -0.440940   \n",
       "\n",
       "   dst_host_same_src_port_rate  dst_host_srv_diff_host_rate  \\\n",
       "0                     0.073120                    -0.287993   \n",
       "1                     2.375620                    -0.287993   \n",
       "2                    -0.478183                    -0.287993   \n",
       "3                    -0.380894                     0.073759   \n",
       "4                    -0.478183                    -0.287993   \n",
       "\n",
       "   dst_host_serror_rate  dst_host_srv_serror_rate  dst_host_rerror_rate  \\\n",
       "0             -0.641804                 -0.627365             -0.221668   \n",
       "1             -0.641804                 -0.627365             -0.385140   \n",
       "2              1.603834                  1.614454             -0.385140   \n",
       "3             -0.574435                 -0.604947             -0.385140   \n",
       "4             -0.641804                 -0.627365             -0.385140   \n",
       "\n",
       "   dst_host_srv_rerror_rate    class  \n",
       "0                 -0.374281   normal  \n",
       "1                 -0.374281   normal  \n",
       "2                 -0.374281  anomaly  \n",
       "3                 -0.342768   normal  \n",
       "4                 -0.374281   normal  \n",
       "\n",
       "[5 rows x 39 columns]"
      ]
     },
     "execution_count": 3,
     "metadata": {},
     "output_type": "execute_result"
    }
   ],
   "source": [
    "df_train.head()"
   ]
  },
  {
   "cell_type": "markdown",
   "metadata": {},
   "source": [
    "Here i dont have to tackle with unbalance data because the data is not unbalanced but i will act like data is like that."
   ]
  },
  {
   "cell_type": "code",
   "execution_count": 14,
   "metadata": {},
   "outputs": [
    {
     "data": {
      "text/plain": [
       "normal     13449\n",
       "anomaly    11743\n",
       "Name: class, dtype: int64"
      ]
     },
     "execution_count": 14,
     "metadata": {},
     "output_type": "execute_result"
    }
   ],
   "source": [
    "df_train[\"class\"].value_counts()"
   ]
  },
  {
   "cell_type": "code",
   "execution_count": null,
   "metadata": {},
   "outputs": [],
   "source": []
  },
  {
   "cell_type": "code",
   "execution_count": null,
   "metadata": {},
   "outputs": [],
   "source": []
  },
  {
   "cell_type": "code",
   "execution_count": null,
   "metadata": {},
   "outputs": [],
   "source": []
  },
  {
   "cell_type": "code",
   "execution_count": null,
   "metadata": {},
   "outputs": [],
   "source": []
  },
  {
   "cell_type": "code",
   "execution_count": null,
   "metadata": {},
   "outputs": [],
   "source": []
  },
  {
   "cell_type": "code",
   "execution_count": null,
   "metadata": {},
   "outputs": [],
   "source": []
  },
  {
   "cell_type": "code",
   "execution_count": null,
   "metadata": {},
   "outputs": [],
   "source": []
  },
  {
   "cell_type": "code",
   "execution_count": null,
   "metadata": {},
   "outputs": [],
   "source": []
  },
  {
   "cell_type": "code",
   "execution_count": null,
   "metadata": {},
   "outputs": [],
   "source": []
  }
 ],
 "metadata": {
  "kernelspec": {
   "display_name": "Python 3",
   "language": "python",
   "name": "python3"
  },
  "language_info": {
   "codemirror_mode": {
    "name": "ipython",
    "version": 3
   },
   "file_extension": ".py",
   "mimetype": "text/x-python",
   "name": "python",
   "nbconvert_exporter": "python",
   "pygments_lexer": "ipython3",
   "version": "3.8.10"
  }
 },
 "nbformat": 4,
 "nbformat_minor": 4
}
